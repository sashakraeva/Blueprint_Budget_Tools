{
  "cells": [
    {
      "cell_type": "markdown",
      "metadata": {
        "id": "view-in-github",
        "colab_type": "text"
      },
      "source": [
        "<a href=\"https://colab.research.google.com/github/sashakraeva/Blueprint_Budget_Tools/blob/main/Blueprint_Analyzer_Aleksandra_Kraeva.ipynb\" target=\"_parent\"><img src=\"https://colab.research.google.com/assets/colab-badge.svg\" alt=\"Open In Colab\"/></a>"
      ]
    },
    {
      "cell_type": "markdown",
      "metadata": {
        "id": "5ui4gvPnRENI"
      },
      "source": [
        "# Blueprint Analyzer\n",
        "\n",
        "Open_CV exercise based on the Kaggle Tuttorial to meet the assignment for the MRAC01, 2d term, Hardware Course\n"
      ]
    },
    {
      "cell_type": "markdown",
      "metadata": {
        "id": "jNmo281Glpu3"
      },
      "source": [
        "# 01_Simple Square **Plan**\n"
      ]
    },
    {
      "cell_type": "markdown",
      "metadata": {
        "id": "SyprlJ8Xl8BI"
      },
      "source": [
        "### 1. Installation & Image Upload"
      ]
    },
    {
      "cell_type": "code",
      "execution_count": null,
      "metadata": {
        "colab": {
          "base_uri": "https://localhost:8080/"
        },
        "collapsed": true,
        "id": "XqZD5GXrwRA1",
        "outputId": "183bcd3a-4355-4704-9019-98d13daf1df1"
      },
      "outputs": [
        {
          "name": "stdout",
          "output_type": "stream",
          "text": [
            "Requirement already satisfied: opencv-python-headless in /usr/local/lib/python3.10/dist-packages (4.10.0.84)\n",
            "Requirement already satisfied: matplotlib in /usr/local/lib/python3.10/dist-packages (3.10.0)\n",
            "Requirement already satisfied: numpy>=1.21.2 in /usr/local/lib/python3.10/dist-packages (from opencv-python-headless) (1.26.4)\n",
            "Requirement already satisfied: contourpy>=1.0.1 in /usr/local/lib/python3.10/dist-packages (from matplotlib) (1.3.1)\n",
            "Requirement already satisfied: cycler>=0.10 in /usr/local/lib/python3.10/dist-packages (from matplotlib) (0.12.1)\n",
            "Requirement already satisfied: fonttools>=4.22.0 in /usr/local/lib/python3.10/dist-packages (from matplotlib) (4.55.3)\n",
            "Requirement already satisfied: kiwisolver>=1.3.1 in /usr/local/lib/python3.10/dist-packages (from matplotlib) (1.4.8)\n",
            "Requirement already satisfied: packaging>=20.0 in /usr/local/lib/python3.10/dist-packages (from matplotlib) (24.2)\n",
            "Requirement already satisfied: pillow>=8 in /usr/local/lib/python3.10/dist-packages (from matplotlib) (11.1.0)\n",
            "Requirement already satisfied: pyparsing>=2.3.1 in /usr/local/lib/python3.10/dist-packages (from matplotlib) (3.2.1)\n",
            "Requirement already satisfied: python-dateutil>=2.7 in /usr/local/lib/python3.10/dist-packages (from matplotlib) (2.8.2)\n",
            "Requirement already satisfied: six>=1.5 in /usr/local/lib/python3.10/dist-packages (from python-dateutil>=2.7->matplotlib) (1.17.0)\n"
          ]
        }
      ],
      "source": [
        "# Install req libraries\n",
        "!pip install opencv-python-headless matplotlib"
      ]
    },
    {
      "cell_type": "code",
      "execution_count": null,
      "metadata": {
        "id": "zj8su8mY0uQG"
      },
      "outputs": [],
      "source": [
        "# Import req libraries\n",
        "import cv2\n",
        "import numpy as np\n",
        "import matplotlib.pyplot as plt"
      ]
    },
    {
      "cell_type": "code",
      "execution_count": null,
      "metadata": {
        "colab": {
          "base_uri": "https://localhost:8080/",
          "height": 69
        },
        "id": "TUxNxg5G1bjh",
        "outputId": "e39fc6d2-570b-4d59-ed48-bee44037c6c4"
      },
      "outputs": [
        {
          "data": {
            "text/html": [
              "\n",
              "     <input type=\"file\" id=\"files-14bcddeb-6026-4fe9-b4e3-cba9cbd3e414\" name=\"files[]\" multiple disabled\n",
              "        style=\"border:none\" />\n",
              "     <output id=\"result-14bcddeb-6026-4fe9-b4e3-cba9cbd3e414\">\n",
              "      Upload widget is only available when the cell has been executed in the\n",
              "      current browser session. Please rerun this cell to enable.\n",
              "      </output>\n",
              "      <script>// Copyright 2017 Google LLC\n",
              "//\n",
              "// Licensed under the Apache License, Version 2.0 (the \"License\");\n",
              "// you may not use this file except in compliance with the License.\n",
              "// You may obtain a copy of the License at\n",
              "//\n",
              "//      http://www.apache.org/licenses/LICENSE-2.0\n",
              "//\n",
              "// Unless required by applicable law or agreed to in writing, software\n",
              "// distributed under the License is distributed on an \"AS IS\" BASIS,\n",
              "// WITHOUT WARRANTIES OR CONDITIONS OF ANY KIND, either express or implied.\n",
              "// See the License for the specific language governing permissions and\n",
              "// limitations under the License.\n",
              "\n",
              "/**\n",
              " * @fileoverview Helpers for google.colab Python module.\n",
              " */\n",
              "(function(scope) {\n",
              "function span(text, styleAttributes = {}) {\n",
              "  const element = document.createElement('span');\n",
              "  element.textContent = text;\n",
              "  for (const key of Object.keys(styleAttributes)) {\n",
              "    element.style[key] = styleAttributes[key];\n",
              "  }\n",
              "  return element;\n",
              "}\n",
              "\n",
              "// Max number of bytes which will be uploaded at a time.\n",
              "const MAX_PAYLOAD_SIZE = 100 * 1024;\n",
              "\n",
              "function _uploadFiles(inputId, outputId) {\n",
              "  const steps = uploadFilesStep(inputId, outputId);\n",
              "  const outputElement = document.getElementById(outputId);\n",
              "  // Cache steps on the outputElement to make it available for the next call\n",
              "  // to uploadFilesContinue from Python.\n",
              "  outputElement.steps = steps;\n",
              "\n",
              "  return _uploadFilesContinue(outputId);\n",
              "}\n",
              "\n",
              "// This is roughly an async generator (not supported in the browser yet),\n",
              "// where there are multiple asynchronous steps and the Python side is going\n",
              "// to poll for completion of each step.\n",
              "// This uses a Promise to block the python side on completion of each step,\n",
              "// then passes the result of the previous step as the input to the next step.\n",
              "function _uploadFilesContinue(outputId) {\n",
              "  const outputElement = document.getElementById(outputId);\n",
              "  const steps = outputElement.steps;\n",
              "\n",
              "  const next = steps.next(outputElement.lastPromiseValue);\n",
              "  return Promise.resolve(next.value.promise).then((value) => {\n",
              "    // Cache the last promise value to make it available to the next\n",
              "    // step of the generator.\n",
              "    outputElement.lastPromiseValue = value;\n",
              "    return next.value.response;\n",
              "  });\n",
              "}\n",
              "\n",
              "/**\n",
              " * Generator function which is called between each async step of the upload\n",
              " * process.\n",
              " * @param {string} inputId Element ID of the input file picker element.\n",
              " * @param {string} outputId Element ID of the output display.\n",
              " * @return {!Iterable<!Object>} Iterable of next steps.\n",
              " */\n",
              "function* uploadFilesStep(inputId, outputId) {\n",
              "  const inputElement = document.getElementById(inputId);\n",
              "  inputElement.disabled = false;\n",
              "\n",
              "  const outputElement = document.getElementById(outputId);\n",
              "  outputElement.innerHTML = '';\n",
              "\n",
              "  const pickedPromise = new Promise((resolve) => {\n",
              "    inputElement.addEventListener('change', (e) => {\n",
              "      resolve(e.target.files);\n",
              "    });\n",
              "  });\n",
              "\n",
              "  const cancel = document.createElement('button');\n",
              "  inputElement.parentElement.appendChild(cancel);\n",
              "  cancel.textContent = 'Cancel upload';\n",
              "  const cancelPromise = new Promise((resolve) => {\n",
              "    cancel.onclick = () => {\n",
              "      resolve(null);\n",
              "    };\n",
              "  });\n",
              "\n",
              "  // Wait for the user to pick the files.\n",
              "  const files = yield {\n",
              "    promise: Promise.race([pickedPromise, cancelPromise]),\n",
              "    response: {\n",
              "      action: 'starting',\n",
              "    }\n",
              "  };\n",
              "\n",
              "  cancel.remove();\n",
              "\n",
              "  // Disable the input element since further picks are not allowed.\n",
              "  inputElement.disabled = true;\n",
              "\n",
              "  if (!files) {\n",
              "    return {\n",
              "      response: {\n",
              "        action: 'complete',\n",
              "      }\n",
              "    };\n",
              "  }\n",
              "\n",
              "  for (const file of files) {\n",
              "    const li = document.createElement('li');\n",
              "    li.append(span(file.name, {fontWeight: 'bold'}));\n",
              "    li.append(span(\n",
              "        `(${file.type || 'n/a'}) - ${file.size} bytes, ` +\n",
              "        `last modified: ${\n",
              "            file.lastModifiedDate ? file.lastModifiedDate.toLocaleDateString() :\n",
              "                                    'n/a'} - `));\n",
              "    const percent = span('0% done');\n",
              "    li.appendChild(percent);\n",
              "\n",
              "    outputElement.appendChild(li);\n",
              "\n",
              "    const fileDataPromise = new Promise((resolve) => {\n",
              "      const reader = new FileReader();\n",
              "      reader.onload = (e) => {\n",
              "        resolve(e.target.result);\n",
              "      };\n",
              "      reader.readAsArrayBuffer(file);\n",
              "    });\n",
              "    // Wait for the data to be ready.\n",
              "    let fileData = yield {\n",
              "      promise: fileDataPromise,\n",
              "      response: {\n",
              "        action: 'continue',\n",
              "      }\n",
              "    };\n",
              "\n",
              "    // Use a chunked sending to avoid message size limits. See b/62115660.\n",
              "    let position = 0;\n",
              "    do {\n",
              "      const length = Math.min(fileData.byteLength - position, MAX_PAYLOAD_SIZE);\n",
              "      const chunk = new Uint8Array(fileData, position, length);\n",
              "      position += length;\n",
              "\n",
              "      const base64 = btoa(String.fromCharCode.apply(null, chunk));\n",
              "      yield {\n",
              "        response: {\n",
              "          action: 'append',\n",
              "          file: file.name,\n",
              "          data: base64,\n",
              "        },\n",
              "      };\n",
              "\n",
              "      let percentDone = fileData.byteLength === 0 ?\n",
              "          100 :\n",
              "          Math.round((position / fileData.byteLength) * 100);\n",
              "      percent.textContent = `${percentDone}% done`;\n",
              "\n",
              "    } while (position < fileData.byteLength);\n",
              "  }\n",
              "\n",
              "  // All done.\n",
              "  yield {\n",
              "    response: {\n",
              "      action: 'complete',\n",
              "    }\n",
              "  };\n",
              "}\n",
              "\n",
              "scope.google = scope.google || {};\n",
              "scope.google.colab = scope.google.colab || {};\n",
              "scope.google.colab._files = {\n",
              "  _uploadFiles,\n",
              "  _uploadFilesContinue,\n",
              "};\n",
              "})(self);\n",
              "</script> "
            ],
            "text/plain": [
              "<IPython.core.display.HTML object>"
            ]
          },
          "metadata": {},
          "output_type": "display_data"
        },
        {
          "name": "stdout",
          "output_type": "stream",
          "text": [
            "Saving simple_square.png to simple_square (1).png\n"
          ]
        }
      ],
      "source": [
        "# Load the image\n",
        "from google.colab import files\n",
        "uploaded = files.upload()  # Upload your blueprint image\n"
      ]
    },
    {
      "cell_type": "code",
      "execution_count": null,
      "metadata": {
        "colab": {
          "base_uri": "https://localhost:8080/",
          "height": 675
        },
        "id": "CH_kl0BB2QMJ",
        "outputId": "1c3e08a1-643c-477f-ed77-2aa411f2b492"
      },
      "outputs": [
        {
          "data": {
            "image/png": "[encoded data removed]",
            "text/plain": [
              "<Figure size 1000x800 with 1 Axes>"
            ]
          },
          "metadata": {},
          "output_type": "display_data"
        }
      ],
      "source": [
        "# To assign name to the uploaded image\n",
        "blueprint_file = list(uploaded.keys())[0]\n",
        "blueprint_image = cv2.imread(blueprint_file)\n",
        "\n",
        "# To display original image\n",
        "plt.figure(figsize=(10, 8))\n",
        "plt.imshow(cv2.cvtColor(blueprint_image, cv2.COLOR_BGR2RGB))\n",
        "plt.title(\"Original Blueprint Image\")\n",
        "plt.axis('off')\n",
        "plt.show()"
      ]
    },
    {
      "cell_type": "markdown",
      "metadata": {
        "id": "iamJw9Rt-nzD"
      },
      "source": [
        "### 2. Processing Original picture\n",
        "2.1 Converting to grayscale\n",
        "\n",
        "---"
      ]
    },
    {
      "cell_type": "code",
      "execution_count": null,
      "metadata": {
        "colab": {
          "base_uri": "https://localhost:8080/",
          "height": 675
        },
        "id": "__nEKHXgPu_Z",
        "outputId": "d76def66-8bc1-4771-909e-befac5ec4bb4"
      },
      "outputs": [
        {
          "data": {
            "image/png": "[encoded data removed]",
            "text/plain": [
              "<Figure size 1000x800 with 1 Axes>"
            ]
          },
          "metadata": {},
          "output_type": "display_data"
        }
      ],
      "source": [
        "# Converting the image into grayscale\n",
        "gray_image = cv2.cvtColor(blueprint_image, cv2.COLOR_RGB2GRAY)\n",
        "\n",
        "plt.figure(figsize=(10, 8))\n",
        "plt.imshow(gray_image, cmap='gray')\n",
        "plt.title(\"Graysale Image\")\n",
        "plt.axis('off')\n",
        "plt.show()"
      ]
    },
    {
      "cell_type": "markdown",
      "metadata": {
        "id": "zHj8C-jf_amz"
      },
      "source": [
        "### 2.2 Edge Detection & Cotours\n",
        "\n",
        "2.2.0 Canny Edge Detection\n",
        "\n",
        "---\n",
        "\n",
        "Explanation:\n",
        "\n",
        "- threshold1 (lower threshold): Minimum gradient magnitude to consider a pixel as part of an edge.\n",
        "    - Low value: More weak edges are retained, leading to more noise or spurious edges.\n",
        "    - High value: Fewer weak edges are retained, potentially missing faint edges.\n",
        "- threshold2 (upper threshold): Maximum gradient magnitude; pixels with gradient above this are definitely edges.\n",
        "    - Low value: Many edges (strong and weak) are detected, potentially including unwanted noise.\n",
        "    - High value: Only the strongest edges are retained, which might miss fine details.\n",
        "\n",
        "\n",
        "! Problem with the code below - it finds 4 contours instead of 2.\n",
        "\n",
        "What can we do? (see 2.1 Sharr Edge Detection)\n"
      ]
    },
    {
      "cell_type": "code",
      "execution_count": null,
      "metadata": {
        "colab": {
          "base_uri": "https://localhost:8080/",
          "height": 436
        },
        "id": "MRn8Y2MSRBbl",
        "outputId": "ce2aebce-9911-489e-9be2-56ed715b707d"
      },
      "outputs": [
        {
          "data": {
            "image/png": "[encoded data removed]",
            "text/plain": [
              "<Figure size 1000x1000 with 2 Axes>"
            ]
          },
          "metadata": {},
          "output_type": "display_data"
        },
        {
          "name": "stdout",
          "output_type": "stream",
          "text": [
            "Amount of countors is: 4\n"
          ]
        }
      ],
      "source": [
        "# Edge Detection\n",
        "canny_edges = cv2.Canny(gray_image, threshold1=50, threshold2=150)\n",
        "\n",
        "# Find contours\n",
        "canny_contours, _ = cv2.findContours(canny_edges, cv2.RETR_TREE, cv2.CHAIN_APPROX_NONE)\n",
        "\n",
        "# Sorting out the countours based on their area in ascending order (from smallest to largest).\n",
        "canny_cnt = sorted(canny_contours, key=cv2.contourArea)\n",
        "\n",
        "# Draw contours on a copy of the original image\n",
        "canny_contour_image = blueprint_image.copy()\n",
        "\n",
        "# Now there are 4 edges detected\n",
        "cv2.drawContours(canny_contour_image, canny_cnt[0], -1, (0, 255, 0), 20) # green\n",
        "# cv2.drawContours(canny_contour_image, canny_cnt[1], -1, (255, 0, 0), 2) # blue\n",
        "# cv2.drawContours(canny_contour_image, canny_cnt[2], -1, (0, 0, 255), 2) # red\n",
        "# cv2.drawContours(canny_contour_image, canny_cnt[2], -1, (255, 0, 255), 20) # pink\n",
        "\n",
        "fig, axs = plt.subplots(1, 2, figsize=(10, 10))\n",
        "axs[0].imshow(cv2.cvtColor(canny_edges, cv2.COLOR_BGR2RGB))\n",
        "axs[0].set_title(\"Edge Detection with Canny\")\n",
        "axs[1].imshow(cv2.cvtColor(canny_contour_image, cv2.COLOR_BGR2RGB))\n",
        "axs[1].set_title(\"Contours Detected\")\n",
        "axs[0].axis('off')\n",
        "axs[1].axis('off')\n",
        "plt.show()\n",
        "print(\"Amount of countors is: \" + str(len(canny_contours)))\n"
      ]
    },
    {
      "cell_type": "markdown",
      "metadata": {
        "id": "S2KcFLIsOLOX"
      },
      "source": [
        "2.2.1 Schar Edge Detection\n",
        "\n",
        "---\n",
        "\n",
        "! Problem with the code below - it STILL finds 4 contours instead of 2.\n",
        "\n",
        "What can we do? (see 2.2 Including Treshold)"
      ]
    },
    {
      "cell_type": "code",
      "execution_count": null,
      "metadata": {
        "colab": {
          "base_uri": "https://localhost:8080/",
          "height": 436
        },
        "id": "cZ_EJTTPAO4W",
        "outputId": "db24e9b0-c911-4bfc-9703-e499bc8bb4b4"
      },
      "outputs": [
        {
          "data": {
            "image/png": "[encoded data removed]",
            "text/plain": [
              "<Figure size 1000x1000 with 2 Axes>"
            ]
          },
          "metadata": {},
          "output_type": "display_data"
        },
        {
          "name": "stdout",
          "output_type": "stream",
          "text": [
            "Amount of countors is: 4\n"
          ]
        }
      ],
      "source": [
        "# Computing the gradient using the Scharr operator\n",
        "sobel_x = cv2.Scharr(gray_image, cv2.CV_64F, 1, 0)\n",
        "sobel_y = cv2.Scharr(gray_image, cv2.CV_64F, 0, 1)\n",
        "\n",
        "# Computing the gradient magnitude\n",
        "grad_mag = np.sqrt(sobel_x ** 2 + sobel_y ** 2)\n",
        "\n",
        "# Normalizing the gradient magnitude to the range [0, 255]\n",
        "scharr_edges = cv2.normalize(grad_mag, None, 0, 255, cv2.NORM_MINMAX, cv2.CV_8U)\n",
        "\n",
        "# Find contours\n",
        "scharr_contours, _ = cv2.findContours(scharr_edges, cv2.RETR_TREE, cv2.CHAIN_APPROX_NONE)\n",
        "\n",
        "# Sorting out the countours based on their area in ascending order (from smallest to largest).\n",
        "scharr_cnt = sorted(scharr_contours, key=cv2.contourArea)\n",
        "\n",
        "# Draw contours on a copy of the original image\n",
        "scharr_contour_image = blueprint_image.copy()\n",
        "\n",
        "# Now there are 4 edges detected\n",
        "cv2.drawContours(scharr_contour_image, scharr_cnt[0], -1, (0, 255, 0), 20) # green\n",
        "# cv2.drawContours(scharr_contour_image, scharr_cnt[1], -1, (255, 0, 0), 2) # blue\n",
        "# cv2.drawContours(scharr_contour_image, scharr_cnt[2], -1, (0, 0, 255), 2) # red\n",
        "# cv2.drawContours(scharr_contour_image, scharr_cnt[2], -1, (255, 0, 255), 20) # pink\n",
        "\n",
        "fig, axs = plt.subplots(1, 2, figsize=(10, 10))\n",
        "axs[0].imshow(cv2.cvtColor(scharr_edges, cv2.COLOR_BGR2RGB))\n",
        "axs[0].set_title(\"Edge Detection with Scharr\")\n",
        "axs[1].imshow(cv2.cvtColor(scharr_contour_image, cv2.COLOR_BGR2RGB))\n",
        "axs[1].set_title(\"Contours Detected\")\n",
        "axs[0].axis('off')\n",
        "axs[1].axis('off')\n",
        "plt.show()\n",
        "print(\"Amount of countors is: \" + str(len(scharr_contours)))"
      ]
    },
    {
      "cell_type": "markdown",
      "metadata": {
        "id": "41PZXR6nOWUa"
      },
      "source": [
        "2.2.3 Including Threshold - 2 EDGES FINALLY!!\n",
        "\n",
        "---\n",
        "\n",
        "\n",
        "What happpened and why?\n",
        "\n",
        "- Why 4 contours were appearing previously?\n",
        "  - Canny Edge Detection: This detects all edges in the image, including both the inner and outer edges of the rectangle.\n",
        "  - Contours Detection: The cv2.findContours function sees each edge separately because it traces boundaries around both the inner and outer edges.\n",
        "  - Result: Since there are two loops (one for the outer rectangle and one for the inner hollow rectangle) and each loop has two sides (inner and outer edges), the function detects 4 separate contours.\n",
        "\n",
        "\n",
        "- Why 2 contours?\n",
        "  - Thresholding was included: Converts the grayscale image into a binary image (black and white). The black areas are treated as the background, and the white areas represent the shape.\n",
        "  - Here, the entire rectangle (both outer and inner parts) is treated as a single filled shape with two boundaries: outer and inner.\n",
        "  - Contours Detection: The cv2.findContours function detects only the outer boundary of the shape and the hole inside it.\n",
        "  - Result:The algorithm detects 2 contours: one for the outer boundary of the rectangle and one for the inner hollow space.\n"
      ]
    },
    {
      "cell_type": "code",
      "execution_count": null,
      "metadata": {
        "colab": {
          "base_uri": "https://localhost:8080/",
          "height": 436
        },
        "id": "uAor6XYhNeA6",
        "outputId": "ea374491-a609-437c-b913-c7dfe9c389e6"
      },
      "outputs": [
        {
          "data": {
            "image/png": "[encoded data removed]",
            "text/plain": [
              "<Figure size 1000x1000 with 2 Axes>"
            ]
          },
          "metadata": {},
          "output_type": "display_data"
        },
        {
          "name": "stdout",
          "output_type": "stream",
          "text": [
            "Amount of countors is: 2\n"
          ]
        }
      ],
      "source": [
        "# Edge Detection\n",
        "edges = cv2.Canny(gray_image, threshold1=50, threshold2=150)\n",
        "\n",
        "_, threshold = cv2.threshold(gray_image, 100, 255, cv2.THRESH_BINARY_INV)\n",
        "\n",
        "contours, hierarchy = cv2.findContours(threshold, cv2.RETR_TREE, cv2.CHAIN_APPROX_NONE)\n",
        "\n",
        "# Sorting out the countours based on their area in ascending order (from smallest to largest).\n",
        "cnt1 = sorted(contours, key=cv2.contourArea)\n",
        "\n",
        "# Draw contours on a copy of the original image\n",
        "contour_image = blueprint_image.copy()\n",
        "\n",
        "# Now there are 4 edges detected\n",
        "cv2.drawContours(contour_image, cnt1[0], -1, (0, 255, 0), 20) # green\n",
        "cv2.drawContours(contour_image, cnt1[1], -1, (255, 0, 255), 20) # pink\n",
        "\n",
        "\n",
        "fig, axs = plt.subplots(1, 2, figsize=(10, 10))\n",
        "axs[0].imshow(cv2.cvtColor(edges, cv2.COLOR_BGR2RGB))\n",
        "axs[0].set_title(\"Edge Detection with Canny\")\n",
        "axs[1].imshow(cv2.cvtColor(contour_image, cv2.COLOR_BGR2RGB))\n",
        "axs[1].set_title(\"Contours Detected\")\n",
        "axs[0].axis('off')\n",
        "axs[1].axis('off')\n",
        "plt.show()\n",
        "print(\"Amount of countors is: \" + str(len(contours)))\n"
      ]
    },
    {
      "cell_type": "markdown",
      "metadata": {
        "id": "Rr67sO5ZoEU9"
      },
      "source": [
        "### 3. Area Calculation\n",
        "3.1 Pixel per area"
      ]
    },
    {
      "cell_type": "code",
      "execution_count": null,
      "metadata": {
        "colab": {
          "base_uri": "https://localhost:8080/"
        },
        "id": "TjTzbwX7WDj8",
        "outputId": "52743f37-b923-4722-f038-8eeffdf26dbb"
      },
      "outputs": [
        {
          "name": "stdout",
          "output_type": "stream",
          "text": [
            "Area inside the green contour: 1464096.5\n",
            "Area inside the pink contour: 2181528.5\n",
            "Area between the green and pink contours: 717432.0\n"
          ]
        }
      ],
      "source": [
        "# Calculate the area inside the green contour\n",
        "green_area = cv2.contourArea(cnt1[0])\n",
        "print(f\"Area inside the green contour: {green_area}\")\n",
        "\n",
        "# Calculate the area inside the pink contour\n",
        "pink_area = cv2.contourArea(cnt1[1])\n",
        "print(f\"Area inside the pink contour: {pink_area}\")\n",
        "\n",
        "# Calculate the area between the green and pink contours\n",
        "area_between = pink_area - green_area\n",
        "print(f\"Area between the green and pink contours: {area_between}\")\n"
      ]
    },
    {
      "cell_type": "markdown",
      "metadata": {
        "id": "B5X-fcV_oQdA"
      },
      "source": [
        "3.2 Converting to sq m"
      ]
    },
    {
      "cell_type": "code",
      "execution_count": null,
      "metadata": {
        "colab": {
          "base_uri": "https://localhost:8080/"
        },
        "id": "wI4W-FPZWjLf",
        "outputId": "6e9e8258-1c5b-4824-e290-0d164168fe43"
      },
      "outputs": [
        {
          "name": "stdout",
          "output_type": "stream",
          "text": [
            "Green area in square meters: 37 m²\n",
            "Pink area in square meters: 55 m²\n",
            "Area between green and pink contours: 18 m²\n"
          ]
        }
      ],
      "source": [
        "# Pixel-to-meter scale\n",
        "scale_factor = 0.005  # 1 pixel = 0.005 meters\n",
        "\n",
        "# Convert green and pink areas from pixels to square meters\n",
        "green_area_m2 = green_area * (scale_factor ** 2)\n",
        "pink_area_m2 = pink_area * (scale_factor ** 2)\n",
        "area_between_m2 = area_between * (scale_factor ** 2)\n",
        "\n",
        "# Print the results\n",
        "print(f\"Green area in square meters: {green_area_m2:.0f} m²\")\n",
        "print(f\"Pink area in square meters: {pink_area_m2:.0f} m²\")\n",
        "print(f\"Area between green and pink contours: {area_between_m2:.0f} m²\")"
      ]
    },
    {
      "cell_type": "markdown",
      "metadata": {
        "id": "P9xBgVxVYDFr"
      },
      "source": [
        "3.3 Visualisation of the are on the image"
      ]
    },
    {
      "cell_type": "code",
      "execution_count": null,
      "metadata": {
        "colab": {
          "base_uri": "https://localhost:8080/",
          "height": 675
        },
        "id": "giRihz3YYNjs",
        "outputId": "a3397001-e1c2-4a9d-d4df-5a019b942745"
      },
      "outputs": [
        {
          "data": {
            "image/png": "[encoded data removed]",
            "text/plain": [
              "<Figure size 1000x800 with 1 Axes>"
            ]
          },
          "metadata": {},
          "output_type": "display_data"
        }
      ],
      "source": [
        "# Calculate centroids and add text\n",
        "font = cv2.FONT_HERSHEY_SIMPLEX  # Font for text\n",
        "font_scale = 4                 # Font size\n",
        "thickness = 10                    # Thickness of text\n",
        "\n",
        "# Draw green contour on a copy of the original image\n",
        "green_contour_image = blueprint_image.copy()\n",
        "\n",
        "# Now there are 4 edges detected\n",
        "cv2.drawContours(green_contour_image, cnt1[0], -1, (0, 255, 0), 20) # green\n",
        "\n",
        "# Green contour\n",
        "M = cv2.moments(cnt1[0])\n",
        "if M['m00'] != 0:  # Check if the contour has a valid area\n",
        "    cx_green = int(M['m10'] / M['m00'])\n",
        "    cy_green = int(M['m01'] / M['m00'])\n",
        "    green_text = f\"{green_area_m2:.0f} sq.m.\"\n",
        "    cv2.putText(green_contour_image, green_text, (cx_green, cy_green), font, font_scale, (0, 255, 0), thickness)\n",
        "else:\n",
        "    print(\"Idk the area\")\n",
        "\n",
        "# Display the annotated image\n",
        "plt.figure(figsize=(10, 8))\n",
        "plt.imshow(cv2.cvtColor(green_contour_image, cv2.COLOR_BGR2RGB))\n",
        "plt.title(\"Green Contour with Area\")\n",
        "plt.axis('off')\n",
        "plt.show()\n"
      ]
    },
    {
      "cell_type": "markdown",
      "metadata": {
        "id": "xgsjU8EKrD96"
      },
      "source": [
        "# 02_Apartment Plan"
      ]
    },
    {
      "cell_type": "markdown",
      "metadata": {
        "id": "_Zng8Ao90uZs"
      },
      "source": [
        "1. Area Calculation an Visualisation"
      ]
    },
    {
      "cell_type": "code",
      "execution_count": null,
      "metadata": {
        "colab": {
          "base_uri": "https://localhost:8080/",
          "height": 69
        },
        "id": "VowMqBAgrMb1",
        "outputId": "f42c2ceb-30c7-4219-b871-e9ce704d6662"
      },
      "outputs": [
        {
          "data": {
            "text/html": [
              "\n",
              "     <input type=\"file\" id=\"files-00adbb65-e99b-4a2e-bdee-2fae1f3e8842\" name=\"files[]\" multiple disabled\n",
              "        style=\"border:none\" />\n",
              "     <output id=\"result-00adbb65-e99b-4a2e-bdee-2fae1f3e8842\">\n",
              "      Upload widget is only available when the cell has been executed in the\n",
              "      current browser session. Please rerun this cell to enable.\n",
              "      </output>\n",
              "      <script>// Copyright 2017 Google LLC\n",
              "//\n",
              "// Licensed under the Apache License, Version 2.0 (the \"License\");\n",
              "// you may not use this file except in compliance with the License.\n",
              "// You may obtain a copy of the License at\n",
              "//\n",
              "//      http://www.apache.org/licenses/LICENSE-2.0\n",
              "//\n",
              "// Unless required by applicable law or agreed to in writing, software\n",
              "// distributed under the License is distributed on an \"AS IS\" BASIS,\n",
              "// WITHOUT WARRANTIES OR CONDITIONS OF ANY KIND, either express or implied.\n",
              "// See the License for the specific language governing permissions and\n",
              "// limitations under the License.\n",
              "\n",
              "/**\n",
              " * @fileoverview Helpers for google.colab Python module.\n",
              " */\n",
              "(function(scope) {\n",
              "function span(text, styleAttributes = {}) {\n",
              "  const element = document.createElement('span');\n",
              "  element.textContent = text;\n",
              "  for (const key of Object.keys(styleAttributes)) {\n",
              "    element.style[key] = styleAttributes[key];\n",
              "  }\n",
              "  return element;\n",
              "}\n",
              "\n",
              "// Max number of bytes which will be uploaded at a time.\n",
              "const MAX_PAYLOAD_SIZE = 100 * 1024;\n",
              "\n",
              "function _uploadFiles(inputId, outputId) {\n",
              "  const steps = uploadFilesStep(inputId, outputId);\n",
              "  const outputElement = document.getElementById(outputId);\n",
              "  // Cache steps on the outputElement to make it available for the next call\n",
              "  // to uploadFilesContinue from Python.\n",
              "  outputElement.steps = steps;\n",
              "\n",
              "  return _uploadFilesContinue(outputId);\n",
              "}\n",
              "\n",
              "// This is roughly an async generator (not supported in the browser yet),\n",
              "// where there are multiple asynchronous steps and the Python side is going\n",
              "// to poll for completion of each step.\n",
              "// This uses a Promise to block the python side on completion of each step,\n",
              "// then passes the result of the previous step as the input to the next step.\n",
              "function _uploadFilesContinue(outputId) {\n",
              "  const outputElement = document.getElementById(outputId);\n",
              "  const steps = outputElement.steps;\n",
              "\n",
              "  const next = steps.next(outputElement.lastPromiseValue);\n",
              "  return Promise.resolve(next.value.promise).then((value) => {\n",
              "    // Cache the last promise value to make it available to the next\n",
              "    // step of the generator.\n",
              "    outputElement.lastPromiseValue = value;\n",
              "    return next.value.response;\n",
              "  });\n",
              "}\n",
              "\n",
              "/**\n",
              " * Generator function which is called between each async step of the upload\n",
              " * process.\n",
              " * @param {string} inputId Element ID of the input file picker element.\n",
              " * @param {string} outputId Element ID of the output display.\n",
              " * @return {!Iterable<!Object>} Iterable of next steps.\n",
              " */\n",
              "function* uploadFilesStep(inputId, outputId) {\n",
              "  const inputElement = document.getElementById(inputId);\n",
              "  inputElement.disabled = false;\n",
              "\n",
              "  const outputElement = document.getElementById(outputId);\n",
              "  outputElement.innerHTML = '';\n",
              "\n",
              "  const pickedPromise = new Promise((resolve) => {\n",
              "    inputElement.addEventListener('change', (e) => {\n",
              "      resolve(e.target.files);\n",
              "    });\n",
              "  });\n",
              "\n",
              "  const cancel = document.createElement('button');\n",
              "  inputElement.parentElement.appendChild(cancel);\n",
              "  cancel.textContent = 'Cancel upload';\n",
              "  const cancelPromise = new Promise((resolve) => {\n",
              "    cancel.onclick = () => {\n",
              "      resolve(null);\n",
              "    };\n",
              "  });\n",
              "\n",
              "  // Wait for the user to pick the files.\n",
              "  const files = yield {\n",
              "    promise: Promise.race([pickedPromise, cancelPromise]),\n",
              "    response: {\n",
              "      action: 'starting',\n",
              "    }\n",
              "  };\n",
              "\n",
              "  cancel.remove();\n",
              "\n",
              "  // Disable the input element since further picks are not allowed.\n",
              "  inputElement.disabled = true;\n",
              "\n",
              "  if (!files) {\n",
              "    return {\n",
              "      response: {\n",
              "        action: 'complete',\n",
              "      }\n",
              "    };\n",
              "  }\n",
              "\n",
              "  for (const file of files) {\n",
              "    const li = document.createElement('li');\n",
              "    li.append(span(file.name, {fontWeight: 'bold'}));\n",
              "    li.append(span(\n",
              "        `(${file.type || 'n/a'}) - ${file.size} bytes, ` +\n",
              "        `last modified: ${\n",
              "            file.lastModifiedDate ? file.lastModifiedDate.toLocaleDateString() :\n",
              "                                    'n/a'} - `));\n",
              "    const percent = span('0% done');\n",
              "    li.appendChild(percent);\n",
              "\n",
              "    outputElement.appendChild(li);\n",
              "\n",
              "    const fileDataPromise = new Promise((resolve) => {\n",
              "      const reader = new FileReader();\n",
              "      reader.onload = (e) => {\n",
              "        resolve(e.target.result);\n",
              "      };\n",
              "      reader.readAsArrayBuffer(file);\n",
              "    });\n",
              "    // Wait for the data to be ready.\n",
              "    let fileData = yield {\n",
              "      promise: fileDataPromise,\n",
              "      response: {\n",
              "        action: 'continue',\n",
              "      }\n",
              "    };\n",
              "\n",
              "    // Use a chunked sending to avoid message size limits. See b/62115660.\n",
              "    let position = 0;\n",
              "    do {\n",
              "      const length = Math.min(fileData.byteLength - position, MAX_PAYLOAD_SIZE);\n",
              "      const chunk = new Uint8Array(fileData, position, length);\n",
              "      position += length;\n",
              "\n",
              "      const base64 = btoa(String.fromCharCode.apply(null, chunk));\n",
              "      yield {\n",
              "        response: {\n",
              "          action: 'append',\n",
              "          file: file.name,\n",
              "          data: base64,\n",
              "        },\n",
              "      };\n",
              "\n",
              "      let percentDone = fileData.byteLength === 0 ?\n",
              "          100 :\n",
              "          Math.round((position / fileData.byteLength) * 100);\n",
              "      percent.textContent = `${percentDone}% done`;\n",
              "\n",
              "    } while (position < fileData.byteLength);\n",
              "  }\n",
              "\n",
              "  // All done.\n",
              "  yield {\n",
              "    response: {\n",
              "      action: 'complete',\n",
              "    }\n",
              "  };\n",
              "}\n",
              "\n",
              "scope.google = scope.google || {};\n",
              "scope.google.colab = scope.google.colab || {};\n",
              "scope.google.colab._files = {\n",
              "  _uploadFiles,\n",
              "  _uploadFilesContinue,\n",
              "};\n",
              "})(self);\n",
              "</script> "
            ],
            "text/plain": [
              "<IPython.core.display.HTML object>"
            ]
          },
          "metadata": {},
          "output_type": "display_data"
        },
        {
          "name": "stdout",
          "output_type": "stream",
          "text": [
            "Saving four_squares.png to four_squares (1).png\n"
          ]
        }
      ],
      "source": [
        "# Load the image\n",
        "from google.colab import files\n",
        "uploaded1 = files.upload()  # Upload your blueprint image"
      ]
    },
    {
      "cell_type": "code",
      "execution_count": null,
      "metadata": {
        "colab": {
          "base_uri": "https://localhost:8080/",
          "height": 675
        },
        "id": "wGt-IehvrQgz",
        "outputId": "d7b11629-b7ed-43d4-d166-f87e94b83ba5"
      },
      "outputs": [
        {
          "data": {
            "image/png": "[encoded data removed]",
            "text/plain": [
              "<Figure size 1000x800 with 1 Axes>"
            ]
          },
          "metadata": {},
          "output_type": "display_data"
        }
      ],
      "source": [
        "# To assign name to the uploaded image\n",
        "blueprint_file1 = list(uploaded1.keys())[0]\n",
        "blueprint_image1 = cv2.imread(blueprint_file1)\n",
        "\n",
        "# To display original image\n",
        "plt.figure(figsize=(10, 8))\n",
        "plt.imshow(cv2.cvtColor(blueprint_image1, cv2.COLOR_BGR2RGB))\n",
        "plt.title(\"Original Blueprint Image\")\n",
        "plt.axis('off')\n",
        "plt.show()"
      ]
    },
    {
      "cell_type": "code",
      "execution_count": null,
      "metadata": {
        "colab": {
          "base_uri": "https://localhost:8080/",
          "height": 675
        },
        "id": "TlF_BhulrZvO",
        "outputId": "085ed008-18e6-4c27-ca88-db05fe4faf69"
      },
      "outputs": [
        {
          "data": {
            "image/png": "[encoded data removed]",
            "text/plain": [
              "<Figure size 1000x800 with 1 Axes>"
            ]
          },
          "metadata": {},
          "output_type": "display_data"
        }
      ],
      "source": [
        "# Converting the image into grayscale\n",
        "gray_image1 = cv2.cvtColor(blueprint_image1, cv2.COLOR_RGB2GRAY)\n",
        "\n",
        "plt.figure(figsize=(10, 8))\n",
        "plt.imshow(gray_image1, cmap='gray')\n",
        "plt.title(\"Graysale Image\")\n",
        "plt.axis('off')\n",
        "plt.show()"
      ]
    },
    {
      "cell_type": "code",
      "execution_count": null,
      "metadata": {
        "colab": {
          "base_uri": "https://localhost:8080/",
          "height": 436
        },
        "id": "O9uLwX6FrggN",
        "outputId": "aac4409d-0fea-4fb8-cfe1-aa3544fe189d"
      },
      "outputs": [
        {
          "data": {
            "image/png": "[encoded data removed]",
            "text/plain": [
              "<Figure size 1000x1000 with 2 Axes>"
            ]
          },
          "metadata": {},
          "output_type": "display_data"
        },
        {
          "name": "stdout",
          "output_type": "stream",
          "text": [
            "Amount of countors is: 5\n"
          ]
        }
      ],
      "source": [
        "# Edge Detection\n",
        "edges1 = cv2.Canny(gray_image1, threshold1=50, threshold2=150)\n",
        "\n",
        "_, threshold1 = cv2.threshold(gray_image1, 100, 255, cv2.THRESH_BINARY_INV)\n",
        "\n",
        "contours1, hierarchy1 = cv2.findContours(threshold1, cv2.RETR_TREE, cv2.CHAIN_APPROX_NONE)\n",
        "\n",
        "# Sorting out the countours based on their area in ascending order (from smallest to largest).\n",
        "cnt01 = sorted(contours1, key=cv2.contourArea)\n",
        "\n",
        "# Draw contours on a copy of the original image\n",
        "contour_image1 = blueprint_image1.copy()\n",
        "\n",
        "# Now there are 4 edges detected\n",
        "cv2.drawContours(contour_image1, cnt01, -1, (255, 255, 255), 20) # white\n",
        "# cv2.drawContours(contour_image1, cnt01[0], -1, (0, 255, 0), 20) # green\n",
        "#cv2.drawContours(contour_image1, cnt01[1], -1, (255, 0, 255), 20) # pink\n",
        "# cv2.drawContours(contour_image1, cnt01[2], -1, (0, 0, 255), 20) # red\n",
        "# cv2.drawContours(contour_image1, cnt01[3], -1, (255, 210, 255), 20) # lightpink\n",
        "# cv2.drawContours(contour_image1, cnt01[4], -1, (255, 55, 10), 20) # blue\n",
        "\n",
        "\n",
        "fig, axs = plt.subplots(1, 2, figsize=(10, 10))\n",
        "axs[0].imshow(cv2.cvtColor(edges1, cv2.COLOR_BGR2RGB))\n",
        "axs[0].set_title(\"Edge Detection with Canny\")\n",
        "axs[1].imshow(cv2.cvtColor(contour_image1, cv2.COLOR_BGR2RGB))\n",
        "axs[1].set_title(\"Contours Detected\")\n",
        "axs[0].axis('off')\n",
        "axs[1].axis('off')\n",
        "plt.show()\n",
        "print(\"Amount of countors is: \" + str(len(contours1)))\n"
      ]
    },
    {
      "cell_type": "code",
      "execution_count": null,
      "metadata": {
        "colab": {
          "base_uri": "https://localhost:8080/",
          "height": 675
        },
        "id": "H4YGGSLTswiv",
        "outputId": "8f9aa0bb-8019-4b32-9067-0de4ef614031"
      },
      "outputs": [
        {
          "data": {
            "image/png": "[encoded data removed]",
            "text/plain": [
              "<Figure size 1000x800 with 1 Axes>"
            ]
          },
          "metadata": {},
          "output_type": "display_data"
        }
      ],
      "source": [
        "# scale_factor = 0.005  from before\n",
        "# Font properties from before\n",
        "\n",
        "\n",
        "\n",
        "# Create a copy of the original image to draw areas\n",
        "room_area_image = blueprint_image1.copy()\n",
        "\n",
        "# Calculate and print the area for each contour except the last one\n",
        "for i, contour in enumerate(cnt01[:-1]):  # Exclude the last contour\n",
        "    area = cv2.contourArea(contour) # pixels\n",
        "    area_m2 = area * (scale_factor ** 2) #sq. m.\n",
        "    # print(f\"Contour {i + 1} Area: {area_m2:.0f} sq.m.\")\n",
        "\n",
        "    # Calculate the centroid of the contour (to write area text in each room)\n",
        "    M = cv2.moments(contour)\n",
        "    if M['m00'] != 0:  # Avoid division by zero\n",
        "        cx = int(M['m10'] / M['m00'])  # X-coordinate of centroid\n",
        "        cy = int(M['m01'] / M['m00'])  # Y-coordinate of centroid\n",
        "\n",
        "        text = f\"{area_m2:.0f} sq.m.\"\n",
        "        cv2.putText(room_area_image, text, (cx, cy), font, font_scale, (0, 255, 0), thickness)\n",
        "\n",
        "\n",
        "plt.figure(figsize=(10, 8))\n",
        "plt.imshow(cv2.cvtColor(room_area_image, cv2.COLOR_BGR2RGB))\n",
        "plt.title(\"All Rooms with Area\")\n",
        "plt.axis('off')\n",
        "plt.show()\n"
      ]
    },
    {
      "cell_type": "markdown",
      "metadata": {
        "id": "K_4xY41f008s"
      },
      "source": [
        "2. Iteractive room selection and area detection"
      ]
    },
    {
      "cell_type": "code",
      "execution_count": null,
      "metadata": {
        "colab": {
          "base_uri": "https://localhost:8080/",
          "height": 559
        },
        "id": "TYoU_u4N1xQk",
        "outputId": "a4d5b005-177f-4981-f0ef-9b9c1ef78ce3"
      },
      "outputs": [
        {
          "output_type": "display_data",
          "data": {
            "text/plain": [
              "<Figure size 800x600 with 1 Axes>"
            ],
            "image/png": "[encoded data removed]"
          },
          "metadata": {}
        }
      ],
      "source": [
        "\n",
        "# Create a copy of the original image to draw areas and room labels\n",
        "room_area_image = blueprint_image1.copy()\n",
        "\n",
        "# Room labels for each contour\n",
        "room_labels = [\"Toilet\", \"Bedroom\", \"Office\", \"Livingroom\"]\n",
        "\n",
        "# Dictionary to store room names and areas\n",
        "room_areas = {}\n",
        "\n",
        "# Calculate and label each room's area on the image\n",
        "for i, contour in enumerate(cnt01[:-1]):\n",
        "    area = cv2.contourArea(contour)\n",
        "    area_m2 = area * (scale_factor ** 2)\n",
        "\n",
        "    # Calculate the centroid of the contour\n",
        "    M = cv2.moments(contour)\n",
        "    if M['m00'] != 0:  # Avoid division by zero\n",
        "        cx = int(M['m10'] / M['m00'])  # X-coordinate of centroid\n",
        "        cy = int(M['m01'] / M['m00'])  # Y-coordinate of centroid\n",
        "\n",
        "        # Get the room label\n",
        "        room_label = room_labels[i]\n",
        "        room_areas[room_label] = area_m2  # Store the room name and area in the dictionary\n",
        "\n",
        "        # Add the room label and area text at the centroid\n",
        "        text = f\"{room_label}\"\n",
        "        cv2.putText(room_area_image, text, (cx - 300, cy), font, font_scale, (255, 255, 255), thickness)\n",
        "\n",
        "# Display the blueprint image with room labels\n",
        "plt.figure(figsize=(8, 6))\n",
        "plt.imshow(cv2.cvtColor(room_area_image, cv2.COLOR_BGR2RGB))\n",
        "plt.title(\"Blueprint with Room Labels\")\n",
        "plt.axis('off')\n",
        "plt.show()\n",
        "\n",
        "# Interactive input to select a room\n",
        "room_name = input(\"Enter the name of the room you're interested in (e.g., Bedroom, Toilet): \").strip()\n",
        "\n",
        "# Print the area of the selected room\n",
        "if room_name in room_areas:\n",
        "    print(f\"The area of {room_name} is {room_areas[room_name]:.2f} sq.m.\")\n",
        "else:\n",
        "    print(f\"Room '{room_name}' not found. Please check the input.\")\n"
      ]
    }
  ],
  "metadata": {
    "colab": {
      "provenance": [],
      "authorship_tag": "ABX9TyNMbrnWZ5OpZiKP/BPslw7Q",
      "include_colab_link": true
    },
    "kernelspec": {
      "display_name": "Python 3",
      "name": "python3"
    },
    "language_info": {
      "name": "python"
    }
  },
  "nbformat": 4,
  "nbformat_minor": 0
}