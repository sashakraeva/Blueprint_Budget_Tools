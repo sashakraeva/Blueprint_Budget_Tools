{
  "nbformat": 4,
  "nbformat_minor": 0,
  "metadata": {
    "colab": {
      "provenance": [],
      "authorship_tag": "ABX9TyOO8zvDkzsEAZIv7evoHPT5",
      "include_colab_link": true
    },
    "kernelspec": {
      "name": "python3",
      "display_name": "Python 3"
    },
    "language_info": {
      "name": "python"
    }
  },
  "cells": [
    {
      "cell_type": "markdown",
      "metadata": {
        "id": "view-in-github",
        "colab_type": "text"
      },
      "source": [
        "<a href=\"https://colab.research.google.com/github/sashakraeva/Blueprint_Budget_Tools/blob/main/Building_Material_Cost_Estimator_Aleksandra_Kraeva.ipynb\" target=\"_parent\"><img src=\"https://colab.research.google.com/assets/colab-badge.svg\" alt=\"Open In Colab\"/></a>"
      ]
    },
    {
      "cell_type": "markdown",
      "source": [
        "# **Building Material Cost Estimator**"
      ],
      "metadata": {
        "id": "VeWUTOsyPszT"
      }
    },
    {
      "cell_type": "markdown",
      "source": [
        "Python exercise based on Introductio to Python lecture. Exercise for MRAC01, 2d term, Hardware Course."
      ],
      "metadata": {
        "id": "nGTMBnG7Pxh5"
      }
    },
    {
      "cell_type": "code",
      "source": [
        "# Import necessary modules\n",
        "import csv\n",
        "import matplotlib.pyplot as plt"
      ],
      "metadata": {
        "id": "_Q0bZpR0P9aI"
      },
      "execution_count": 2,
      "outputs": []
    },
    {
      "cell_type": "code",
      "source": [
        "# Function to calculate the area of a surface\n",
        "def calculate_area(length, width):\n",
        "    return length * width\n",
        "\n",
        "# Function to calculate the total cost\n",
        "def calculate_total_cost(area, cost_per_sqm):\n",
        "    return area * cost_per_sqm"
      ],
      "metadata": {
        "id": "1qEXuuFOQJ6y"
      },
      "execution_count": 3,
      "outputs": []
    },
    {
      "cell_type": "code",
      "source": [
        "# Function to save project details to a CSV file\n",
        "def save_to_csv(projects, filename=\"room_projects.csv\"):\n",
        "    with open(filename, mode=\"w\", newline=\"\") as file:\n",
        "        writer = csv.writer(file)\n",
        "        writer.writerow([\"Surface\", \"Length (m)\", \"Width (m)\", \"Height (m)\", \"Area (sqm)\", \"Material\", \"Cost per sqm\", \"Total Cost\"])\n",
        "        for project in projects:\n",
        "            writer.writerow(project)\n",
        "    print(f\"Projects saved to {filename}\")"
      ],
      "metadata": {
        "id": "7ph6ZPatQL6H"
      },
      "execution_count": 4,
      "outputs": []
    },
    {
      "cell_type": "code",
      "source": [
        "# Main function to handle user interaction and project processing\n",
        "def main():\n",
        "    # Predefined materials and their costs per square meter\n",
        "    materials = {\n",
        "        \"Paint\": 2.0,\n",
        "        \"Tile\": 10.0,\n",
        "        \"Wallpaper\": 5.0,\n",
        "        \"Wood Panel\": 15.0,\n",
        "        \"Carpet\": 10.0,\n",
        "        \"Concrete\": 3.0,\n",
        "        \"Brick\": 12.0\n",
        "    }\n",
        "\n",
        "    # List to store project details. It initializes an empty list to store the details of each surface/material combination the user inputs.\n",
        "    projects = []\n",
        "\n",
        "    # While loop was used, so user can add more and more surfaces to the list\n",
        "    while True:\n",
        "        print(\"\\n--- Material and Cost Estimator ---\")\n",
        "\n",
        "        # Choose surface type\n",
        "        print(\"Choose the surface you need material for:\")\n",
        "        surface_types = [\"Wall\", \"Floor\", \"Facade\", \"Ceiling\"]\n",
        "        for i, surface in enumerate(surface_types, start=1):\n",
        "            print(f\"{i}. {surface}\")\n",
        "        surface_choice = int(input(\"Enter the number from the list corresponding to your choice: \"))\n",
        "        surface_name = surface_types[surface_choice - 1]\n",
        "\n",
        "        # Input dimensions\n",
        "        # Sice only \"Wall\" and \"Facade\" has height\n",
        "        if surface_name == \"Wall\" or \"Facade\":\n",
        "            length = float(input(f\"Enter the {surface_name.lower()} length in meters: \"))\n",
        "            height = float(input(f\"Enter the {surface_name.lower()} height in meters: \"))\n",
        "            width = 0\n",
        "            area = calculate_area(length, height)\n",
        "        else:\n",
        "            length = float(input(f\"Enter the {surface_name.lower()} length in meters: \"))\n",
        "            width = float(input(f\"Enter the {surface_name.lower()} width in meters: \"))\n",
        "            height = 0\n",
        "            area = calculate_area(length, width)\n",
        "\n",
        "        # Choose material\n",
        "        print(\"\\nChoose a material:\")\n",
        "        for i, material in enumerate(materials.keys(), start=1):\n",
        "            print(f\"{i}. {material} - ${materials[material]} per sq.m.\")\n",
        "        material_choice = int(input(\"Enter the number from the list corresponding to your choice: \"))\n",
        "        material_name = list(materials.keys())[material_choice - 1]\n",
        "        cost_per_sqm = materials[material_name]\n",
        "\n",
        "        # Calculate total cost\n",
        "        total_cost = calculate_total_cost(area, cost_per_sqm)\n",
        "\n",
        "        # Display project details\n",
        "        print(f\"\\nSurface: {surface_name}\")\n",
        "        print(f\"Dimensions: {length}m x {width}m x {height}m\")\n",
        "        print(f\"Area: {area:.2f} square meters\")\n",
        "        print(f\"Material: {material} - ${materials[material]} per sq.m.\")\n",
        "        print(f\"Total Cost: ${total_cost:.2f}\")\n",
        "\n",
        "        # Append project details to the list\n",
        "        projects.append([surface_name, length, width, height, area, material_name, cost_per_sqm, total_cost])\n",
        "\n",
        "        # Ask if the user wants to add another surface\n",
        "        another_surface = input(\"Do you want to add another surface? (yes/no): \").strip().lower()\n",
        "        if another_surface != \"yes\":\n",
        "            break\n",
        "\n",
        "    # Final prompt to save all project details\n",
        "    print(\"\\n--- Summary of Projects ---\")\n",
        "    for project in projects:\n",
        "        print(f\"Surface: {project[0]}, Total Cost: ${project[7]:.2f}\")\n",
        "\n",
        "    save_choice = input(\"Do you want to save all project details to a CSV file? (yes/no): \").strip().lower()\n",
        "    if save_choice == \"yes\":\n",
        "        save_to_csv(projects)"
      ],
      "metadata": {
        "id": "5aLnLMekQhG3"
      },
      "execution_count": 23,
      "outputs": []
    },
    {
      "cell_type": "code",
      "source": [
        "main()"
      ],
      "metadata": {
        "colab": {
          "base_uri": "https://localhost:8080/"
        },
        "id": "c95v50g8R4lv",
        "outputId": "a88d07c2-357e-42cc-e3d4-c1467cf3b72b"
      },
      "execution_count": 25,
      "outputs": [
        {
          "output_type": "stream",
          "name": "stdout",
          "text": [
            "\n",
            "--- Material and Cost Estimator ---\n",
            "Choose the surface you need material for:\n",
            "1. Wall\n",
            "2. Floor\n",
            "3. Facade\n",
            "4. Ceiling\n",
            "Enter the number from the list corresponding to your choice: 1\n",
            "Enter the wall length in meters: 10\n",
            "Enter the wall height in meters: 5\n",
            "\n",
            "Choose a material:\n",
            "1. Paint - $2.0 per sq.m.\n",
            "2. Tile - $10.0 per sq.m.\n",
            "3. Wallpaper - $5.0 per sq.m.\n",
            "4. Wood Panel - $15.0 per sq.m.\n",
            "5. Carpet - $10.0 per sq.m.\n",
            "6. Concrete - $3.0 per sq.m.\n",
            "7. Brick - $12.0 per sq.m.\n",
            "Enter the number from the list corresponding to your choice: 7\n",
            "\n",
            "Surface: Wall\n",
            "Dimensions: 10.0m x 0m x 5.0m\n",
            "Area: 50.00 square meters\n",
            "Material: Brick - $12.0 per sq.m.\n",
            "Total Cost: $600.00\n",
            "Do you want to add another surface? (yes/no): yes\n",
            "\n",
            "--- Material and Cost Estimator ---\n",
            "Choose the surface you need material for:\n",
            "1. Wall\n",
            "2. Floor\n",
            "3. Facade\n",
            "4. Ceiling\n",
            "Enter the number from the list corresponding to your choice: 2\n",
            "Enter the floor length in meters: 10\n",
            "Enter the floor height in meters: 15\n",
            "\n",
            "Choose a material:\n",
            "1. Paint - $2.0 per sq.m.\n",
            "2. Tile - $10.0 per sq.m.\n",
            "3. Wallpaper - $5.0 per sq.m.\n",
            "4. Wood Panel - $15.0 per sq.m.\n",
            "5. Carpet - $10.0 per sq.m.\n",
            "6. Concrete - $3.0 per sq.m.\n",
            "7. Brick - $12.0 per sq.m.\n",
            "Enter the number from the list corresponding to your choice: 6\n",
            "\n",
            "Surface: Floor\n",
            "Dimensions: 10.0m x 0m x 15.0m\n",
            "Area: 150.00 square meters\n",
            "Material: Brick - $12.0 per sq.m.\n",
            "Total Cost: $450.00\n",
            "Do you want to add another surface? (yes/no): yes\n",
            "\n",
            "--- Material and Cost Estimator ---\n",
            "Choose the surface you need material for:\n",
            "1. Wall\n",
            "2. Floor\n",
            "3. Facade\n",
            "4. Ceiling\n",
            "Enter the number from the list corresponding to your choice: 3\n",
            "Enter the facade length in meters: 15\n",
            "Enter the facade height in meters: 20\n",
            "\n",
            "Choose a material:\n",
            "1. Paint - $2.0 per sq.m.\n",
            "2. Tile - $10.0 per sq.m.\n",
            "3. Wallpaper - $5.0 per sq.m.\n",
            "4. Wood Panel - $15.0 per sq.m.\n",
            "5. Carpet - $10.0 per sq.m.\n",
            "6. Concrete - $3.0 per sq.m.\n",
            "7. Brick - $12.0 per sq.m.\n",
            "Enter the number from the list corresponding to your choice: 4\n",
            "\n",
            "Surface: Facade\n",
            "Dimensions: 15.0m x 0m x 20.0m\n",
            "Area: 300.00 square meters\n",
            "Material: Brick - $12.0 per sq.m.\n",
            "Total Cost: $4500.00\n",
            "Do you want to add another surface? (yes/no): no\n",
            "\n",
            "--- Summary of Projects ---\n",
            "Surface: Wall, Total Cost: $600.00\n",
            "Surface: Floor, Total Cost: $450.00\n",
            "Surface: Facade, Total Cost: $4500.00\n",
            "Do you want to save all project details to a CSV file? (yes/no): yes\n",
            "Projects saved to room_projects.csv\n"
          ]
        }
      ]
    }
  ]
}